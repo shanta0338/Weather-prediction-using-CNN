{
 "cells": [
  {
   "cell_type": "code",
   "execution_count": 49,
   "id": "b58e3cc1-c5dc-4822-9b3e-6b9cd3ca56b6",
   "metadata": {},
   "outputs": [],
   "source": [
    "import tensorflow as tf"
   ]
  },
  {
   "cell_type": "code",
   "execution_count": 50,
   "id": "0cad86b5-184f-4354-b1f9-2385b0a74841",
   "metadata": {},
   "outputs": [],
   "source": [
    "from tensorflow import keras\n",
    "from tensorflow.keras import layers"
   ]
  },
  {
   "cell_type": "code",
   "execution_count": 51,
   "id": "40549202-d165-4c97-b0d9-b1c5c9d821d6",
   "metadata": {},
   "outputs": [],
   "source": [
    "path = r\"D:\\Extra\\Testing dataset\\dataset\""
   ]
  },
  {
   "cell_type": "code",
   "execution_count": 52,
   "id": "cd43f0ca-26d3-406f-8348-1fbb283f42ef",
   "metadata": {},
   "outputs": [],
   "source": [
    "batch_size = 32\n",
    "image_size = (128, 128)"
   ]
  },
  {
   "cell_type": "code",
   "execution_count": 53,
   "id": "f1741f19-b967-4af3-8abc-dfef01b62684",
   "metadata": {},
   "outputs": [
    {
     "name": "stdout",
     "output_type": "stream",
     "text": [
      "Found 6858 files belonging to 11 classes.\n"
     ]
    }
   ],
   "source": [
    "dataset = keras.preprocessing.image_dataset_from_directory(\n",
    "    \n",
    "    directory= path,\n",
    "    image_size= image_size,\n",
    "    batch_size= batch_size\n",
    ")"
   ]
  },
  {
   "cell_type": "code",
   "execution_count": 54,
   "id": "713d03df-7fdd-48c4-bdb4-412edf24d02e",
   "metadata": {},
   "outputs": [],
   "source": [
    "\n",
    "# Split dataset\n",
    "train_size = int(0.8 * len(dataset))\n",
    "\n",
    "test_size = int(len(dataset) - train_size)\n",
    "\n",
    "train_data = dataset.take(train_size)\n",
    "test_data = dataset.skip(train_size)\n"
   ]
  },
  {
   "cell_type": "code",
   "execution_count": 55,
   "id": "105c250a-d1d5-48ca-acfd-d883b004dcb0",
   "metadata": {},
   "outputs": [],
   "source": [
    "def load_data(dataset):\n",
    "    x = []\n",
    "    y = []\n",
    "    for images, labels in dataset:\n",
    "        x.append(images)\n",
    "        y.append(labels)\n",
    "    x = tf.concat(x, axis=0) / 255.0\n",
    "    y = tf.concat(y, axis=0)\n",
    "    return x, y\n",
    "\n",
    "x_train, y_train = load_data(train_data)\n",
    "x_test, y_test = load_data(test_data)\n"
   ]
  },
  {
   "cell_type": "code",
   "execution_count": 56,
   "id": "275426bc-19fb-4303-8680-bf8fc62ea32e",
   "metadata": {},
   "outputs": [],
   "source": [
    "model = tf.keras.models.Sequential()"
   ]
  },
  {
   "cell_type": "code",
   "execution_count": 57,
   "id": "f2d93700-6fcb-4f65-8585-90718722c6db",
   "metadata": {},
   "outputs": [],
   "source": [
    "model.add(tf.keras.Input(shape=(128, 128, 3)))\n",
    "model.add(tf.keras.layers.Conv2D(filters= 32,kernel_size= 6, strides=1, activation='relu'))\n",
    "model.add(tf.keras.layers.Conv2D(filters= 32,kernel_size= 6, strides=1, activation='relu'))\n",
    "model.add(tf.keras.layers.MaxPool2D(pool_size=(3, 3)))\n",
    "model.add(tf.keras.layers.Conv2D(filters= 32,kernel_size= 6, strides=1, activation='relu'))\n",
    "model.add(tf.keras.layers.MaxPool2D(pool_size=(3, 3)))\n",
    "model.add(tf.keras.layers.Flatten())\n",
    "model.add(tf.keras.layers.Dense(64, activation='relu'))\n",
    "model.add(tf.keras.layers.Dense(32, activation='relu'))\n",
    "model.add(tf.keras.layers.Dense(32, activation='relu'))\n",
    "model.add(tf.keras.layers.Dense(11, activation='softmax'))"
   ]
  },
  {
   "cell_type": "code",
   "execution_count": 58,
   "id": "ad965d49-4740-4ce2-9b2f-be7f21a8c758",
   "metadata": {},
   "outputs": [],
   "source": [
    "model.compile(\n",
    "    loss = tf.keras.losses.SparseCategoricalCrossentropy(),\n",
    "    optimizer= tf.keras.optimizers.Adam(learning_rate= 0.001),\n",
    "    metrics=['accuracy']\n",
    ")"
   ]
  },
  {
   "cell_type": "code",
   "execution_count": 67,
   "id": "805dafce-7edb-408b-bc1e-06b505d41629",
   "metadata": {
    "scrolled": true
   },
   "outputs": [
    {
     "name": "stdout",
     "output_type": "stream",
     "text": [
      "Epoch 1/30\n",
      "111/111 - 53s - 475ms/step - accuracy: 0.9295 - loss: 0.2159\n",
      "Epoch 2/30\n",
      "111/111 - 49s - 444ms/step - accuracy: 0.9553 - loss: 0.1510\n",
      "Epoch 3/30\n",
      "111/111 - 49s - 444ms/step - accuracy: 0.9511 - loss: 0.1567\n",
      "Epoch 4/30\n",
      "111/111 - 54s - 488ms/step - accuracy: 0.9653 - loss: 0.1141\n",
      "Epoch 5/30\n",
      "111/111 - 55s - 496ms/step - accuracy: 0.9702 - loss: 0.0916\n",
      "Epoch 6/30\n",
      "111/111 - 56s - 503ms/step - accuracy: 0.9649 - loss: 0.1095\n",
      "Epoch 7/30\n",
      "111/111 - 61s - 547ms/step - accuracy: 0.9718 - loss: 0.0903\n",
      "Epoch 8/30\n",
      "111/111 - 57s - 517ms/step - accuracy: 0.9775 - loss: 0.0769\n",
      "Epoch 9/30\n",
      "111/111 - 63s - 563ms/step - accuracy: 0.9786 - loss: 0.0709\n",
      "Epoch 10/30\n",
      "111/111 - 62s - 556ms/step - accuracy: 0.9787 - loss: 0.0721\n",
      "Epoch 11/30\n",
      "111/111 - 60s - 543ms/step - accuracy: 0.9557 - loss: 0.1394\n",
      "Epoch 12/30\n",
      "111/111 - 69s - 624ms/step - accuracy: 0.9702 - loss: 0.0863\n",
      "Epoch 13/30\n",
      "111/111 - 59s - 534ms/step - accuracy: 0.9628 - loss: 0.1124\n",
      "Epoch 14/30\n",
      "111/111 - 58s - 525ms/step - accuracy: 0.9717 - loss: 0.0850\n",
      "Epoch 15/30\n",
      "111/111 - 60s - 540ms/step - accuracy: 0.9866 - loss: 0.0512\n",
      "Epoch 16/30\n",
      "111/111 - 59s - 529ms/step - accuracy: 0.9751 - loss: 0.0805\n",
      "Epoch 17/30\n",
      "111/111 - 61s - 549ms/step - accuracy: 0.9755 - loss: 0.0720\n",
      "Epoch 18/30\n",
      "111/111 - 59s - 531ms/step - accuracy: 0.9664 - loss: 0.1043\n",
      "Epoch 19/30\n",
      "111/111 - 63s - 565ms/step - accuracy: 0.9698 - loss: 0.0876\n",
      "Epoch 20/30\n",
      "111/111 - 60s - 539ms/step - accuracy: 0.9707 - loss: 0.0934\n",
      "Epoch 21/30\n",
      "111/111 - 57s - 517ms/step - accuracy: 0.9484 - loss: 0.1684\n",
      "Epoch 22/30\n",
      "111/111 - 63s - 566ms/step - accuracy: 0.9838 - loss: 0.0527\n",
      "Epoch 23/30\n",
      "111/111 - 61s - 546ms/step - accuracy: 0.9749 - loss: 0.0858\n",
      "Epoch 24/30\n",
      "111/111 - 60s - 539ms/step - accuracy: 0.9902 - loss: 0.0368\n",
      "Epoch 25/30\n",
      "111/111 - 63s - 565ms/step - accuracy: 0.9742 - loss: 0.0813\n",
      "Epoch 26/30\n",
      "111/111 - 66s - 596ms/step - accuracy: 0.9778 - loss: 0.0726\n",
      "Epoch 27/30\n",
      "111/111 - 59s - 531ms/step - accuracy: 0.9793 - loss: 0.0648\n",
      "Epoch 28/30\n",
      "111/111 - 62s - 556ms/step - accuracy: 0.9920 - loss: 0.0288\n",
      "Epoch 29/30\n",
      "111/111 - 60s - 540ms/step - accuracy: 0.9929 - loss: 0.0232\n",
      "Epoch 30/30\n",
      "111/111 - 58s - 525ms/step - accuracy: 0.9955 - loss: 0.0185\n"
     ]
    },
    {
     "data": {
      "text/plain": [
       "<keras.src.callbacks.history.History at 0x231113bec60>"
      ]
     },
     "execution_count": 67,
     "metadata": {},
     "output_type": "execute_result"
    }
   ],
   "source": [
    "model.fit(x_train, y_train, batch_size = 50, epochs = 30, verbose = 2)"
   ]
  },
  {
   "cell_type": "code",
   "execution_count": 68,
   "id": "b5c1c0c2-620a-4ded-bb40-44c211f4f463",
   "metadata": {},
   "outputs": [
    {
     "data": {
      "text/html": [
       "<pre style=\"white-space:pre;overflow-x:auto;line-height:normal;font-family:Menlo,'DejaVu Sans Mono',consolas,'Courier New',monospace\"><span style=\"font-weight: bold\">Model: \"sequential_3\"</span>\n",
       "</pre>\n"
      ],
      "text/plain": [
       "\u001b[1mModel: \"sequential_3\"\u001b[0m\n"
      ]
     },
     "metadata": {},
     "output_type": "display_data"
    },
    {
     "data": {
      "text/html": [
       "<pre style=\"white-space:pre;overflow-x:auto;line-height:normal;font-family:Menlo,'DejaVu Sans Mono',consolas,'Courier New',monospace\">┏━━━━━━━━━━━━━━━━━━━━━━━━━━━━━━━━━━━━━━┳━━━━━━━━━━━━━━━━━━━━━━━━━━━━━┳━━━━━━━━━━━━━━━━━┓\n",
       "┃<span style=\"font-weight: bold\"> Layer (type)                         </span>┃<span style=\"font-weight: bold\"> Output Shape                </span>┃<span style=\"font-weight: bold\">         Param # </span>┃\n",
       "┡━━━━━━━━━━━━━━━━━━━━━━━━━━━━━━━━━━━━━━╇━━━━━━━━━━━━━━━━━━━━━━━━━━━━━╇━━━━━━━━━━━━━━━━━┩\n",
       "│ conv2d_9 (<span style=\"color: #0087ff; text-decoration-color: #0087ff\">Conv2D</span>)                    │ (<span style=\"color: #00d7ff; text-decoration-color: #00d7ff\">None</span>, <span style=\"color: #00af00; text-decoration-color: #00af00\">123</span>, <span style=\"color: #00af00; text-decoration-color: #00af00\">123</span>, <span style=\"color: #00af00; text-decoration-color: #00af00\">32</span>)        │           <span style=\"color: #00af00; text-decoration-color: #00af00\">3,488</span> │\n",
       "├──────────────────────────────────────┼─────────────────────────────┼─────────────────┤\n",
       "│ conv2d_10 (<span style=\"color: #0087ff; text-decoration-color: #0087ff\">Conv2D</span>)                   │ (<span style=\"color: #00d7ff; text-decoration-color: #00d7ff\">None</span>, <span style=\"color: #00af00; text-decoration-color: #00af00\">118</span>, <span style=\"color: #00af00; text-decoration-color: #00af00\">118</span>, <span style=\"color: #00af00; text-decoration-color: #00af00\">32</span>)        │          <span style=\"color: #00af00; text-decoration-color: #00af00\">36,896</span> │\n",
       "├──────────────────────────────────────┼─────────────────────────────┼─────────────────┤\n",
       "│ max_pooling2d_6 (<span style=\"color: #0087ff; text-decoration-color: #0087ff\">MaxPooling2D</span>)       │ (<span style=\"color: #00d7ff; text-decoration-color: #00d7ff\">None</span>, <span style=\"color: #00af00; text-decoration-color: #00af00\">39</span>, <span style=\"color: #00af00; text-decoration-color: #00af00\">39</span>, <span style=\"color: #00af00; text-decoration-color: #00af00\">32</span>)          │               <span style=\"color: #00af00; text-decoration-color: #00af00\">0</span> │\n",
       "├──────────────────────────────────────┼─────────────────────────────┼─────────────────┤\n",
       "│ conv2d_11 (<span style=\"color: #0087ff; text-decoration-color: #0087ff\">Conv2D</span>)                   │ (<span style=\"color: #00d7ff; text-decoration-color: #00d7ff\">None</span>, <span style=\"color: #00af00; text-decoration-color: #00af00\">34</span>, <span style=\"color: #00af00; text-decoration-color: #00af00\">34</span>, <span style=\"color: #00af00; text-decoration-color: #00af00\">32</span>)          │          <span style=\"color: #00af00; text-decoration-color: #00af00\">36,896</span> │\n",
       "├──────────────────────────────────────┼─────────────────────────────┼─────────────────┤\n",
       "│ max_pooling2d_7 (<span style=\"color: #0087ff; text-decoration-color: #0087ff\">MaxPooling2D</span>)       │ (<span style=\"color: #00d7ff; text-decoration-color: #00d7ff\">None</span>, <span style=\"color: #00af00; text-decoration-color: #00af00\">11</span>, <span style=\"color: #00af00; text-decoration-color: #00af00\">11</span>, <span style=\"color: #00af00; text-decoration-color: #00af00\">32</span>)          │               <span style=\"color: #00af00; text-decoration-color: #00af00\">0</span> │\n",
       "├──────────────────────────────────────┼─────────────────────────────┼─────────────────┤\n",
       "│ flatten_3 (<span style=\"color: #0087ff; text-decoration-color: #0087ff\">Flatten</span>)                  │ (<span style=\"color: #00d7ff; text-decoration-color: #00d7ff\">None</span>, <span style=\"color: #00af00; text-decoration-color: #00af00\">3872</span>)                │               <span style=\"color: #00af00; text-decoration-color: #00af00\">0</span> │\n",
       "├──────────────────────────────────────┼─────────────────────────────┼─────────────────┤\n",
       "│ dense_10 (<span style=\"color: #0087ff; text-decoration-color: #0087ff\">Dense</span>)                     │ (<span style=\"color: #00d7ff; text-decoration-color: #00d7ff\">None</span>, <span style=\"color: #00af00; text-decoration-color: #00af00\">64</span>)                  │         <span style=\"color: #00af00; text-decoration-color: #00af00\">247,872</span> │\n",
       "├──────────────────────────────────────┼─────────────────────────────┼─────────────────┤\n",
       "│ dense_11 (<span style=\"color: #0087ff; text-decoration-color: #0087ff\">Dense</span>)                     │ (<span style=\"color: #00d7ff; text-decoration-color: #00d7ff\">None</span>, <span style=\"color: #00af00; text-decoration-color: #00af00\">32</span>)                  │           <span style=\"color: #00af00; text-decoration-color: #00af00\">2,080</span> │\n",
       "├──────────────────────────────────────┼─────────────────────────────┼─────────────────┤\n",
       "│ dense_12 (<span style=\"color: #0087ff; text-decoration-color: #0087ff\">Dense</span>)                     │ (<span style=\"color: #00d7ff; text-decoration-color: #00d7ff\">None</span>, <span style=\"color: #00af00; text-decoration-color: #00af00\">32</span>)                  │           <span style=\"color: #00af00; text-decoration-color: #00af00\">1,056</span> │\n",
       "├──────────────────────────────────────┼─────────────────────────────┼─────────────────┤\n",
       "│ dense_13 (<span style=\"color: #0087ff; text-decoration-color: #0087ff\">Dense</span>)                     │ (<span style=\"color: #00d7ff; text-decoration-color: #00d7ff\">None</span>, <span style=\"color: #00af00; text-decoration-color: #00af00\">11</span>)                  │             <span style=\"color: #00af00; text-decoration-color: #00af00\">363</span> │\n",
       "└──────────────────────────────────────┴─────────────────────────────┴─────────────────┘\n",
       "</pre>\n"
      ],
      "text/plain": [
       "┏━━━━━━━━━━━━━━━━━━━━━━━━━━━━━━━━━━━━━━┳━━━━━━━━━━━━━━━━━━━━━━━━━━━━━┳━━━━━━━━━━━━━━━━━┓\n",
       "┃\u001b[1m \u001b[0m\u001b[1mLayer (type)                        \u001b[0m\u001b[1m \u001b[0m┃\u001b[1m \u001b[0m\u001b[1mOutput Shape               \u001b[0m\u001b[1m \u001b[0m┃\u001b[1m \u001b[0m\u001b[1m        Param #\u001b[0m\u001b[1m \u001b[0m┃\n",
       "┡━━━━━━━━━━━━━━━━━━━━━━━━━━━━━━━━━━━━━━╇━━━━━━━━━━━━━━━━━━━━━━━━━━━━━╇━━━━━━━━━━━━━━━━━┩\n",
       "│ conv2d_9 (\u001b[38;5;33mConv2D\u001b[0m)                    │ (\u001b[38;5;45mNone\u001b[0m, \u001b[38;5;34m123\u001b[0m, \u001b[38;5;34m123\u001b[0m, \u001b[38;5;34m32\u001b[0m)        │           \u001b[38;5;34m3,488\u001b[0m │\n",
       "├──────────────────────────────────────┼─────────────────────────────┼─────────────────┤\n",
       "│ conv2d_10 (\u001b[38;5;33mConv2D\u001b[0m)                   │ (\u001b[38;5;45mNone\u001b[0m, \u001b[38;5;34m118\u001b[0m, \u001b[38;5;34m118\u001b[0m, \u001b[38;5;34m32\u001b[0m)        │          \u001b[38;5;34m36,896\u001b[0m │\n",
       "├──────────────────────────────────────┼─────────────────────────────┼─────────────────┤\n",
       "│ max_pooling2d_6 (\u001b[38;5;33mMaxPooling2D\u001b[0m)       │ (\u001b[38;5;45mNone\u001b[0m, \u001b[38;5;34m39\u001b[0m, \u001b[38;5;34m39\u001b[0m, \u001b[38;5;34m32\u001b[0m)          │               \u001b[38;5;34m0\u001b[0m │\n",
       "├──────────────────────────────────────┼─────────────────────────────┼─────────────────┤\n",
       "│ conv2d_11 (\u001b[38;5;33mConv2D\u001b[0m)                   │ (\u001b[38;5;45mNone\u001b[0m, \u001b[38;5;34m34\u001b[0m, \u001b[38;5;34m34\u001b[0m, \u001b[38;5;34m32\u001b[0m)          │          \u001b[38;5;34m36,896\u001b[0m │\n",
       "├──────────────────────────────────────┼─────────────────────────────┼─────────────────┤\n",
       "│ max_pooling2d_7 (\u001b[38;5;33mMaxPooling2D\u001b[0m)       │ (\u001b[38;5;45mNone\u001b[0m, \u001b[38;5;34m11\u001b[0m, \u001b[38;5;34m11\u001b[0m, \u001b[38;5;34m32\u001b[0m)          │               \u001b[38;5;34m0\u001b[0m │\n",
       "├──────────────────────────────────────┼─────────────────────────────┼─────────────────┤\n",
       "│ flatten_3 (\u001b[38;5;33mFlatten\u001b[0m)                  │ (\u001b[38;5;45mNone\u001b[0m, \u001b[38;5;34m3872\u001b[0m)                │               \u001b[38;5;34m0\u001b[0m │\n",
       "├──────────────────────────────────────┼─────────────────────────────┼─────────────────┤\n",
       "│ dense_10 (\u001b[38;5;33mDense\u001b[0m)                     │ (\u001b[38;5;45mNone\u001b[0m, \u001b[38;5;34m64\u001b[0m)                  │         \u001b[38;5;34m247,872\u001b[0m │\n",
       "├──────────────────────────────────────┼─────────────────────────────┼─────────────────┤\n",
       "│ dense_11 (\u001b[38;5;33mDense\u001b[0m)                     │ (\u001b[38;5;45mNone\u001b[0m, \u001b[38;5;34m32\u001b[0m)                  │           \u001b[38;5;34m2,080\u001b[0m │\n",
       "├──────────────────────────────────────┼─────────────────────────────┼─────────────────┤\n",
       "│ dense_12 (\u001b[38;5;33mDense\u001b[0m)                     │ (\u001b[38;5;45mNone\u001b[0m, \u001b[38;5;34m32\u001b[0m)                  │           \u001b[38;5;34m1,056\u001b[0m │\n",
       "├──────────────────────────────────────┼─────────────────────────────┼─────────────────┤\n",
       "│ dense_13 (\u001b[38;5;33mDense\u001b[0m)                     │ (\u001b[38;5;45mNone\u001b[0m, \u001b[38;5;34m11\u001b[0m)                  │             \u001b[38;5;34m363\u001b[0m │\n",
       "└──────────────────────────────────────┴─────────────────────────────┴─────────────────┘\n"
      ]
     },
     "metadata": {},
     "output_type": "display_data"
    },
    {
     "data": {
      "text/html": [
       "<pre style=\"white-space:pre;overflow-x:auto;line-height:normal;font-family:Menlo,'DejaVu Sans Mono',consolas,'Courier New',monospace\"><span style=\"font-weight: bold\"> Total params: </span><span style=\"color: #00af00; text-decoration-color: #00af00\">985,955</span> (3.76 MB)\n",
       "</pre>\n"
      ],
      "text/plain": [
       "\u001b[1m Total params: \u001b[0m\u001b[38;5;34m985,955\u001b[0m (3.76 MB)\n"
      ]
     },
     "metadata": {},
     "output_type": "display_data"
    },
    {
     "data": {
      "text/html": [
       "<pre style=\"white-space:pre;overflow-x:auto;line-height:normal;font-family:Menlo,'DejaVu Sans Mono',consolas,'Courier New',monospace\"><span style=\"font-weight: bold\"> Trainable params: </span><span style=\"color: #00af00; text-decoration-color: #00af00\">328,651</span> (1.25 MB)\n",
       "</pre>\n"
      ],
      "text/plain": [
       "\u001b[1m Trainable params: \u001b[0m\u001b[38;5;34m328,651\u001b[0m (1.25 MB)\n"
      ]
     },
     "metadata": {},
     "output_type": "display_data"
    },
    {
     "data": {
      "text/html": [
       "<pre style=\"white-space:pre;overflow-x:auto;line-height:normal;font-family:Menlo,'DejaVu Sans Mono',consolas,'Courier New',monospace\"><span style=\"font-weight: bold\"> Non-trainable params: </span><span style=\"color: #00af00; text-decoration-color: #00af00\">0</span> (0.00 B)\n",
       "</pre>\n"
      ],
      "text/plain": [
       "\u001b[1m Non-trainable params: \u001b[0m\u001b[38;5;34m0\u001b[0m (0.00 B)\n"
      ]
     },
     "metadata": {},
     "output_type": "display_data"
    },
    {
     "data": {
      "text/html": [
       "<pre style=\"white-space:pre;overflow-x:auto;line-height:normal;font-family:Menlo,'DejaVu Sans Mono',consolas,'Courier New',monospace\"><span style=\"font-weight: bold\"> Optimizer params: </span><span style=\"color: #00af00; text-decoration-color: #00af00\">657,304</span> (2.51 MB)\n",
       "</pre>\n"
      ],
      "text/plain": [
       "\u001b[1m Optimizer params: \u001b[0m\u001b[38;5;34m657,304\u001b[0m (2.51 MB)\n"
      ]
     },
     "metadata": {},
     "output_type": "display_data"
    }
   ],
   "source": [
    "model.summary()"
   ]
  },
  {
   "cell_type": "code",
   "execution_count": 69,
   "id": "486dae18-f678-4fed-ac24-2c0f0f3edad6",
   "metadata": {},
   "outputs": [
    {
     "name": "stdout",
     "output_type": "stream",
     "text": [
      "\u001b[1m43/43\u001b[0m \u001b[32m━━━━━━━━━━━━━━━━━━━━\u001b[0m\u001b[37m\u001b[0m \u001b[1m5s\u001b[0m 114ms/step - accuracy: 0.7577 - loss: 2.7066\n"
     ]
    },
    {
     "data": {
      "text/plain": [
       "[3.0716121196746826, 0.7267355918884277]"
      ]
     },
     "execution_count": 69,
     "metadata": {},
     "output_type": "execute_result"
    }
   ],
   "source": [
    "model.evaluate(x_test, y_test)"
   ]
  },
  {
   "cell_type": "code",
   "execution_count": 70,
   "id": "d44c1fb8-ec6b-42c5-a1b3-0cb4f8efe557",
   "metadata": {},
   "outputs": [
    {
     "name": "stdout",
     "output_type": "stream",
     "text": [
      "\u001b[1m43/43\u001b[0m \u001b[32m━━━━━━━━━━━━━━━━━━━━\u001b[0m\u001b[37m\u001b[0m \u001b[1m5s\u001b[0m 113ms/step\n"
     ]
    },
    {
     "data": {
      "text/plain": [
       "array([[5.5958239e-20, 1.7977755e-26, 5.9342777e-25, ..., 1.0000000e+00,\n",
       "        1.9818641e-27, 3.4179584e-20],\n",
       "       [1.0259301e-17, 2.2192536e-11, 3.2162364e-17, ..., 4.3994908e-12,\n",
       "        2.9031326e-11, 2.1183768e-08],\n",
       "       [1.0144890e-02, 1.2080177e-05, 8.8631987e-06, ..., 5.2067770e-07,\n",
       "        3.9422504e-10, 2.7733566e-05],\n",
       "       ...,\n",
       "       [2.3481657e-04, 1.7219841e-07, 9.5795137e-08, ..., 1.2612453e-09,\n",
       "        1.7758249e-06, 3.2506345e-05],\n",
       "       [1.4451390e-07, 4.8361654e-10, 4.6791352e-04, ..., 3.6818442e-09,\n",
       "        8.0349181e-15, 5.5351875e-06],\n",
       "       [2.0347250e-11, 5.4835487e-02, 3.2470616e-11, ..., 4.8540183e-10,\n",
       "        9.4511282e-01, 1.5596068e-08]], dtype=float32)"
      ]
     },
     "execution_count": 70,
     "metadata": {},
     "output_type": "execute_result"
    }
   ],
   "source": [
    "model.predict(x_test)"
   ]
  },
  {
   "cell_type": "code",
   "execution_count": null,
   "id": "c22314ae-f7a8-4389-b915-ae661d665ed0",
   "metadata": {},
   "outputs": [],
   "source": []
  }
 ],
 "metadata": {
  "kernelspec": {
   "display_name": "Python 3 (ipykernel)",
   "language": "python",
   "name": "python3"
  },
  "language_info": {
   "codemirror_mode": {
    "name": "ipython",
    "version": 3
   },
   "file_extension": ".py",
   "mimetype": "text/x-python",
   "name": "python",
   "nbconvert_exporter": "python",
   "pygments_lexer": "ipython3",
   "version": "3.12.8"
  }
 },
 "nbformat": 4,
 "nbformat_minor": 5
}
